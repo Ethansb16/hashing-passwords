{
 "cells": [
  {
   "cell_type": "markdown",
   "metadata": {},
   "source": [
    "Task 1: "
   ]
  },
  {
   "cell_type": "code",
   "execution_count": null,
   "metadata": {},
   "outputs": [],
   "source": [
    "import time\n",
    "import hashlib\n",
    "import random\n",
    "import string\n",
    "\n",
    "def sha256_hash(data):\n",
    "    hash_object = hashlib.sha256(data.encode())\n",
    "    return hash_object.hexdigest()\n",
    "\n",
    "def random_string(length=10):\n",
    "    chars = string.ascii_letters + string.digits  # a-z, A-Z, 0-9\n",
    "    return ''.join(random.choice(chars) for _ in range(length))\n",
    "\n",
    "def find_collision():\n",
    "    seen_hashes = {}\n",
    "\n",
    "    start_time = time.time()\n",
    "    count = 0\n",
    "    \n",
    "    while True:\n",
    "\n",
    "        count += 1\n",
    "        rand_str = random_string()\n",
    "        truncated_hash = sha256_hash(rand_str)[:8]\n",
    "\n",
    "        if truncated_hash in seen_hashes:\n",
    "            end_time = time.time()\n",
    "            print(f\"Collision found!\")\n",
    "            print(f\"String 1: {seen_hashes[truncated_hash]} -> {truncated_hash}\")\n",
    "            print(f\"String 2: {rand_str} -> {truncated_hash}\")\n",
    "            return\n",
    "\n",
    "        seen_hashes[truncated_hash] = rand_str\n",
    "    time_elapsed = start_time - end_time\n",
    "\n",
    "\n",
    "def hamming_dist(first, second): \n",
    "    hamming_distance = sum(b1 != b2 for b1, b2 in zip(first, second))\n",
    "    return hamming_distance\n",
    "        \n",
    "\n",
    "def main():\n",
    "    user_input = input(\"Enter text to hash: \")\n",
    "    hashed_output = sha256_hash(user_input)\n",
    "\n",
    "    print(f\" 1a) SHA-256 Digest: {hashed_output}\")\n",
    "    check_hamming_dist = sha256_hash(\"distance check\")\n",
    "    print(f\"2a) {hamming_dist(hashed_output, check_hamming_dist)}\")\n",
    "\n",
    "    find_collision()\n",
    "\n",
    "if __name__ == \"__main__\":\n",
    "    main()"
   ]
  }
 ],
 "metadata": {
  "language_info": {
   "name": "python"
  }
 },
 "nbformat": 4,
 "nbformat_minor": 2
}
